{
 "cells": [
  {
   "cell_type": "code",
   "execution_count": 6,
   "metadata": {},
   "outputs": [],
   "source": [
    "import pandas as pd\n",
    "import numpy as np\n",
    "import itertools\n",
    "import wikipedia\n",
    "import re\n",
    "import nltk\n",
    "\n",
    "# sklearn\n",
    "from sklearn.feature_extraction.text import TfidfVectorizer, CountVectorizer\n",
    "from sklearn.decomposition import LatentDirichletAllocation\n",
    "\n",
    "%matplotlib inline"
   ]
  },
  {
   "cell_type": "markdown",
   "metadata": {},
   "source": [
    "## Wiki-Pedia API "
   ]
  },
  {
   "cell_type": "code",
   "execution_count": 2,
   "metadata": {},
   "outputs": [
    {
     "data": {
      "text/plain": [
       "['AAPL',\n",
       " 'Apple Inc.',\n",
       " 'History of Apple Inc.',\n",
       " 'American Association of Professional Landmen',\n",
       " 'Option symbol',\n",
       " 'Alpha Indexes',\n",
       " 'Energy management (degree)',\n",
       " 'I Am Rich',\n",
       " 'Jeff Williams (Apple)',\n",
       " 'Landman (oil worker)']"
      ]
     },
     "execution_count": 2,
     "metadata": {},
     "output_type": "execute_result"
    }
   ],
   "source": [
    "wikipedia.search(query='AAPL')"
   ]
  },
  {
   "cell_type": "code",
   "execution_count": 3,
   "metadata": {},
   "outputs": [
    {
     "name": "stdout",
     "output_type": "stream",
     "text": [
      "Apple Inc. is an American multinational technology company headquartered in Cupertino, California, that designs, develops, and sells consumer electronics, computer software, and online services. The company's hardware products include the iPhone smartphone, the iPad tablet computer, the Mac personal computer, the iPod portable media player, the Apple Watch smartwatch, the Apple TV digital media player, and the HomePod smart speaker. Apple's software includes the macOS and iOS operating systems, the iTunes media player, the Safari web browser, and the iLife and iWork creativity and productivity suites, as well as professional applications like Final Cut Pro, Logic Pro, and Xcode. Its online services include the iTunes Store, the iOS App Store and Mac App Store, Apple Music, and iCloud.\n",
      "Apple was founded by Steve Jobs, Steve Wozniak, and Ronald Wayne in April 1976 to develop and sell Wozniak's Apple I personal computer. It was incorporated as Apple Computer, Inc. in January 1977, and sal\n"
     ]
    }
   ],
   "source": [
    "wikipage = wikipedia.page('Apple Inc.')\n",
    "print(wikipage.content[:1000])"
   ]
  },
  {
   "cell_type": "markdown",
   "metadata": {},
   "source": [
    "## LDA -- Topic Modeling"
   ]
  },
  {
   "cell_type": "markdown",
   "metadata": {},
   "source": [
    "## sklearn implementation"
   ]
  },
  {
   "cell_type": "markdown",
   "metadata": {},
   "source": [
    "## note:\n",
    "1. In sklearn implementation: analyzer = tokenizer (implemented by re.compile(self.token_pattern).findall(doc)) + n_gram_processor (include stop words) (implemented in self._word_ngrams)\n",
    "2. (CountVectorizer, TfidfVectorizer) Vectorize process in sklearn: create vocab (tokenize & analyze) -> sort words by count -> limits words (remove rare words and stop words) -> BOW representation\n",
    "3. How tokenize n-grams in sklearn: first, define a method \"tokenizer\". Second pass \"tokenizer\" in CountVectorizer(stop_words='english', ngram_range=(n, n), tokenizer=tokenizer). Last, CountVectorizer(stop_words='english', ngram_range=(n, n), tokenizer=tokenizer).build_analyzer() is the n-gram tokenizer\n",
    "4. LDA algo works better when it transforms from bag-of-words counts into a topic space of lower dimensionality; LDA is worse when it transform from Tfidf representation"
   ]
  },
  {
   "cell_type": "code",
   "execution_count": 7,
   "metadata": {},
   "outputs": [
    {
     "name": "stderr",
     "output_type": "stream",
     "text": [
      "/Users/Kevin/anaconda3/lib/python3.6/site-packages/sklearn/decomposition/online_lda.py:536: DeprecationWarning: The default value for 'learning_method' will be changed from 'online' to 'batch' in the release 0.20. This warning was introduced in 0.18.\n",
      "  DeprecationWarning)\n"
     ]
    },
    {
     "data": {
      "text/plain": [
       "array([[0.01215291, 0.63113412, 0.01184059, 0.01190728, 0.3329651 ],\n",
       "       [0.00803294, 0.00809477, 0.00803257, 0.00804427, 0.96779545],\n",
       "       [0.00744249, 0.00742993, 0.00743633, 0.00743891, 0.97025235],\n",
       "       ...,\n",
       "       [0.01540143, 0.01557173, 0.01559895, 0.01545711, 0.93797078],\n",
       "       [0.02501256, 0.89964828, 0.02527366, 0.02500515, 0.02506035],\n",
       "       [0.00590642, 0.00591167, 0.00589606, 0.9763359 , 0.00594995]])"
      ]
     },
     "execution_count": 7,
     "metadata": {},
     "output_type": "execute_result"
    }
   ],
   "source": [
    "## prepare sentences for this doc\n",
    "sentences = nltk.sent_tokenize(wikipage.content)\n",
    "## define tokenizer for sklearn model\n",
    "# tokenizer = CountVectorizer(stop_words='english', ngram_range=(1, 1)).build_tokenizer()\n",
    "# tokenizer = CountVectorizer(stop_words='english', ngram_range=(1, 1)).build_analyzer()\n",
    "def tokenizer(string):\n",
    "    # include stemming (full-package service)\n",
    "    return preprocess_string(string)\n",
    "## vectorize tokens into bag of word matrix\n",
    "# vectorizer = CountVectorizer(stop_words='english', analyzer=tokenizer)\n",
    "# vectorizer = TfidfVectorizer(stop_words='english', ngram_range=(1, 1), tokenizer=tokenizer)\n",
    "vectorizer = CountVectorizer(stop_words='english', ngram_range=(1, 1), tokenizer=tokenizer)\n",
    "bow_mat = vectorizer.fit_transform(sentences)\n",
    "## LDA transform\n",
    "lda = LatentDirichletAllocation(n_components=5, n_jobs=40)\n",
    "lda_mat = lda.fit_transform(bow_mat)\n",
    "lda_mat"
   ]
  }
 ],
 "metadata": {
  "kernelspec": {
   "display_name": "Python 3",
   "language": "python",
   "name": "python3"
  },
  "language_info": {
   "codemirror_mode": {
    "name": "ipython",
    "version": 3
   },
   "file_extension": ".py",
   "mimetype": "text/x-python",
   "name": "python",
   "nbconvert_exporter": "python",
   "pygments_lexer": "ipython3",
   "version": "3.6.5"
  }
 },
 "nbformat": 4,
 "nbformat_minor": 2
}
